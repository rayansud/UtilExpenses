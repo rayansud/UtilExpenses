{
 "cells": [
  {
   "cell_type": "code",
   "execution_count": 1,
   "id": "d3693150",
   "metadata": {},
   "outputs": [],
   "source": [
    "import pandas as pd\n",
    "import numpy as np"
   ]
  },
  {
   "cell_type": "code",
   "execution_count": 11,
   "id": "ef8dc009",
   "metadata": {
    "scrolled": false
   },
   "outputs": [],
   "source": [
    "eia_ferc = pd.read_csv('../datafiles/eia ferc fuzzy matched manually corrected.csv').dropna(subset='eia')\n",
    "eia_codes = pd.read_csv('../datafiles/utilities_entity_eia.csv')\n",
    "merged_eia_codes = pd.merge(eia_ferc,\n",
    "        eia_codes,\n",
    "        left_on='eia',\n",
    "        right_on='utility_name_eia',\n",
    "        how='left')\n",
    "ferc_codes = pd.read_csv('../datafiles/utilities_ferc1.csv')\n",
    "merged_ferc_codes = pd.merge(merged_eia_codes,\n",
    "                            ferc_codes,\n",
    "                            left_on='ferc',\n",
    "                            right_on='utility_name_ferc1',\n",
    "                            how='right')[['utility_id_eia',\n",
    "                                         'utility_id_ferc1',\n",
    "                                         'utility_name_ferc1',\n",
    "                                         'utility_name_eia']]\n",
    "states = pd.read_csv('../datafiles/utilities_eia860.csv',usecols=[0,2,5])\n",
    "states['year_dt'] = pd.to_datetime(states['report_date']).dt.year\n",
    "ferc_subset_with_state = pd.merge(states,\n",
    "        merged_ferc_codes,\n",
    "        how='right',\n",
    "        on='utility_id_eia')\n",
    "ferc_code_state_link = ferc_subset_with_state[['state','utility_id_ferc1']].dropna().drop_duplicates().sort_values(by='utility_id_ferc1')"
   ]
  },
  {
   "cell_type": "code",
   "execution_count": 4,
   "id": "c6935149",
   "metadata": {},
   "outputs": [],
   "source": [
    "power = pd.read_csv('denorm_purchased_power_ferc1.csv')\n",
    "power_st = pd.merge(power,ferc_code_state_link,how='left',on='utility_id_ferc1')\n",
    "power_st=power_st[power_st['state'].isin(['CA','WA','TX','MA'])]\n",
    "power_st.to_csv('data_out/power purchase table.csv')"
   ]
  },
  {
   "cell_type": "code",
   "execution_count": 17,
   "id": "e19b6b56",
   "metadata": {},
   "outputs": [],
   "source": [
    "plant = pd.read_csv('denorm_plant_in_service_ferc1.csv')\n",
    "plant_st = pd.merge(plant,ferc_code_state_link,how='left',on='utility_id_ferc1')\n",
    "plant_st=plant_st[plant_st['state'].isin(['CA','WA','TX','MA'])]\n",
    "plant_st = plant_st[plant_st['ferc_account_label'].isin(['transmission_plant','distribution_plant'])]\n",
    "plant_st = plant_st[['report_year','utility_id_ferc1','utility_name_ferc1','state','additions','ferc_account_label']].dropna()\n",
    "plant_st.to_csv('data_out/td plant additions.csv')"
   ]
  },
  {
   "cell_type": "code",
   "execution_count": 14,
   "id": "9e866d31",
   "metadata": {},
   "outputs": [
    {
     "name": "stderr",
     "output_type": "stream",
     "text": [
      "/var/folders/h0/rfb20rk90qz0tdgv08kqcyrw0000gn/T/ipykernel_57731/857445422.py:1: DtypeWarning: Columns (0) have mixed types. Specify dtype option on import or set low_memory=False.\n",
      "  opex = pd.read_csv('denorm_electric_operating_expenses_ferc1.csv')\n"
     ]
    }
   ],
   "source": [
    "opex = pd.read_csv('denorm_electric_operating_expenses_ferc1.csv')\n",
    "opex_st = pd.merge(opex,ferc_code_state_link,how='left',on='utility_id_ferc1')\n",
    "opex_st=opex_st[opex_st['state'].isin(['CA','WA','TX','MA'])]\n"
   ]
  },
  {
   "cell_type": "code",
   "execution_count": 16,
   "id": "a6291d6b",
   "metadata": {},
   "outputs": [],
   "source": [
    "opex_st = opex_st[opex_st['expense_type'].isin(['transmission_expenses','distribution_expenses','injuries_and_damages'])]\n",
    "opex_st = opex_st[['report_year','utility_id_ferc1','utility_name_ferc1','dollar_value','expense_type']].dropna()\n",
    "opex_st.to_csv('data_out/t,d,injury opex.csv')"
   ]
  }
 ],
 "metadata": {
  "kernelspec": {
   "display_name": "Python 3 (ipykernel)",
   "language": "python",
   "name": "python3"
  },
  "language_info": {
   "codemirror_mode": {
    "name": "ipython",
    "version": 3
   },
   "file_extension": ".py",
   "mimetype": "text/x-python",
   "name": "python",
   "nbconvert_exporter": "python",
   "pygments_lexer": "ipython3",
   "version": "3.10.0"
  }
 },
 "nbformat": 4,
 "nbformat_minor": 5
}
