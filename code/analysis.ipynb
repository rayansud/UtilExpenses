{
 "cells": [
  {
   "cell_type": "code",
   "execution_count": 43,
   "id": "c9d62ef5",
   "metadata": {},
   "outputs": [],
   "source": [
    "import matplotlib.pyplot as plt\n",
    "import pandas as pd\n",
    "import numpy as np\n",
    "import cpi\n",
    "from matplotlib.lines import Line2D\n",
    "import matplotlib.dates as mdates"
   ]
  },
  {
   "cell_type": "code",
   "execution_count": 44,
   "id": "6ab4f9bc",
   "metadata": {},
   "outputs": [],
   "source": [
    "#cpi.update()"
   ]
  },
  {
   "cell_type": "code",
   "execution_count": 45,
   "id": "a9717907",
   "metadata": {},
   "outputs": [],
   "source": [
    "data = pd.read_csv('../datafiles/dispositions_and_opex_and_transmission_and_sales_and_rev_and_tdplant.csv')"
   ]
  },
  {
   "cell_type": "code",
   "execution_count": 46,
   "id": "be50a190",
   "metadata": {},
   "outputs": [],
   "source": [
    "for col in data.columns:\n",
    "    if 'transmission_plant' in col:\n",
    "        print(col)"
   ]
  },
  {
   "cell_type": "markdown",
   "id": "ad40f349",
   "metadata": {},
   "source": [
    "# Data Cleaning"
   ]
  },
  {
   "cell_type": "markdown",
   "id": "818a5663",
   "metadata": {},
   "source": [
    "* Investigating why transmission length drops in 2021"
   ]
  },
  {
   "cell_type": "code",
   "execution_count": 47,
   "id": "a6f10d56",
   "metadata": {},
   "outputs": [],
   "source": [
    "data = data[data.report_year != 1994]\n",
    "transmission_line_length_miles = data.groupby('report_year')['transmission_line_length_miles'].agg('sum').reset_index(drop=False)\n",
    "transmission_line_and_structures_length_miles = data.groupby('report_year')['transmission_line_and_structures_length_miles'].agg('sum').reset_index(drop=False)\n",
    "\n",
    "plt.plot(transmission_line_length_miles.report_year,transmission_line_length_miles.transmission_line_length_miles)\n",
    "plt.plot(transmission_line_and_structures_length_miles.report_year,transmission_line_and_structures_length_miles.transmission_line_and_structures_length_miles)"
   ]
  },
  {
   "cell_type": "markdown",
   "id": "77b6a216",
   "metadata": {},
   "source": [
    "* Dropping 1994 and 2021 data - looks wrong\n",
    "* Dropping extra index column"
   ]
  },
  {
   "cell_type": "code",
   "execution_count": 48,
   "id": "b1f600d4",
   "metadata": {},
   "outputs": [],
   "source": [
    "#data = data[data.report_year != 2021]\n",
    "data.drop(labels='Unnamed: 0',axis='columns',inplace=True)"
   ]
  },
  {
   "cell_type": "markdown",
   "id": "22b2c674",
   "metadata": {},
   "source": [
    "* Reading in the fuzzy-merged + handcorrected EIA/FERC crosswalk\n",
    "* Reading back in the EIA plant IDs and merging\n",
    "* Merging EIA plants with NERC regions, then merging back with FERC crosswalk"
   ]
  },
  {
   "cell_type": "code",
   "execution_count": 49,
   "id": "574caf06",
   "metadata": {},
   "outputs": [],
   "source": [
    "eia_ferc = pd.read_csv('../datafiles/eia ferc fuzzy matched manually corrected.csv').dropna(subset='eia')\n",
    "\n",
    "eia_codes = pd.read_csv('../datafiles/utilities_entity_eia.csv')\n",
    "\n",
    "\n",
    "merged_eia_codes = pd.merge(eia_ferc,\n",
    "        eia_codes,\n",
    "        left_on='eia',\n",
    "        right_on='utility_name_eia',\n",
    "        how='left')\n",
    "\n",
    "ferc_codes = pd.read_csv('../datafiles/utilities_ferc1.csv')\n",
    "\n",
    "\n",
    "merged_ferc_codes = pd.merge(merged_eia_codes,\n",
    "                            ferc_codes,\n",
    "                            left_on='ferc',\n",
    "                            right_on='utility_name_ferc1',\n",
    "                            how='right')[['utility_id_eia',\n",
    "                                         'utility_id_ferc1',\n",
    "                                         'utility_name_ferc1',\n",
    "                                         'utility_name_eia']]"
   ]
  },
  {
   "cell_type": "code",
   "execution_count": 50,
   "id": "d55b90f9",
   "metadata": {},
   "outputs": [],
   "source": [
    "states = pd.read_csv('../datafiles/utilities_eia860.csv',usecols=[0,2,5])\n",
    "states['year_dt'] = pd.to_datetime(states['report_date']).dt.year"
   ]
  },
  {
   "cell_type": "code",
   "execution_count": 51,
   "id": "f0b20407",
   "metadata": {},
   "outputs": [],
   "source": [
    "nerc = pd.read_excel('../datafiles/StateCodesNERC.xlsx')\n",
    "merged_eia_interconn_regions = pd.merge(nerc,states,how='right',left_on='Code',right_on='state')[['NERC','State','Code','utility_id_eia']]"
   ]
  },
  {
   "cell_type": "code",
   "execution_count": 52,
   "id": "7b75a353",
   "metadata": {},
   "outputs": [],
   "source": [
    "ferc_subset_with_nercregion = pd.merge(merged_eia_interconn_regions,\n",
    "        merged_ferc_codes,\n",
    "        how='right',\n",
    "        on='utility_id_eia').dropna(subset='NERC').drop_duplicates()"
   ]
  },
  {
   "cell_type": "code",
   "execution_count": 53,
   "id": "818bd14a",
   "metadata": {},
   "outputs": [],
   "source": [
    "nerc_interconn_subset_data_disagg = pd.merge(ferc_subset_with_nercregion,\n",
    "        data,\n",
    "        how='inner',\n",
    "        left_on=['utility_id_ferc1'],\n",
    "        right_on=['utility_id_ferc1'])\n",
    "nerc_interconn_subset_data_disagg.to_csv('../datafiles/FERC1 data with EIA merge subset and NERC regions.csv')"
   ]
  },
  {
   "cell_type": "code",
   "execution_count": 54,
   "id": "cbc553a0",
   "metadata": {},
   "outputs": [],
   "source": [
    "ferc_subset_with_nercregion"
   ]
  },
  {
   "cell_type": "markdown",
   "id": "21336549",
   "metadata": {},
   "source": [
    "# Analysis"
   ]
  },
  {
   "cell_type": "markdown",
   "id": "26597349",
   "metadata": {},
   "source": [
    "Producing aggregate annual numbers for key variables"
   ]
  },
  {
   "cell_type": "code",
   "execution_count": 55,
   "id": "e8c93cb8",
   "metadata": {},
   "outputs": [],
   "source": [
    "capex_total = data.groupby('report_year')['capex_total'].agg('sum').reset_index(drop=False)\n",
    "opex_total = data.groupby('report_year')['opex_total'].agg('sum').reset_index(drop=False)\n",
    "megawatt_hours_sold_sales_to_ultimate_consumers = data.groupby('report_year')['megawatt_hours_sold_sales_to_ultimate_consumers'].agg('sum').reset_index(drop=False)\n",
    "transmission_line_length_miles = data.groupby('report_year')['transmission_line_length_miles'].agg('sum').reset_index(drop=False)\n",
    "transmission_expenses = data.groupby('report_year')['transmission_expenses'].agg('sum').reset_index(drop=False)\n",
    "distribution_expenses = data.groupby('report_year')['distribution_expenses'].agg('sum').reset_index(drop=False)\n",
    "customer_total = data.groupby('report_year')['avg_customers_per_month'].agg('sum').reset_index(drop=False)"
   ]
  },
  {
   "cell_type": "code",
   "execution_count": 56,
   "id": "11d74f13",
   "metadata": {},
   "outputs": [],
   "source": [
    "plt.plot(transmission_line_length_miles.report_year,transmission_line_length_miles.transmission_line_length_miles)"
   ]
  },
  {
   "cell_type": "markdown",
   "id": "ff935099",
   "metadata": {},
   "source": [
    "Inflation adjusting T&D costs and generating normalized variables"
   ]
  },
  {
   "cell_type": "code",
   "execution_count": 57,
   "id": "e5ca9793",
   "metadata": {},
   "outputs": [],
   "source": [
    "transmission_expenses['year_dt']=pd.to_datetime(transmission_expenses.report_year, format='%Y')\n",
    "real_transmission_expenses = transmission_expenses.apply(lambda x: cpi.inflate(x[\"transmission_expenses\"], \n",
    "                                                                               x[\"year_dt\"],\n",
    "                                                                              to=pd.to_datetime(2022,format=\"%Y\")),\n",
    "                                                                               axis=1)\n",
    "transmission_expenses['inflation-adjusted expenses']= real_transmission_expenses\n",
    "\n",
    "transmission_expense_per_mile = transmission_expenses['inflation-adjusted expenses']/transmission_line_length_miles['transmission_line_length_miles']\n",
    "transmission_expense_per_customer = transmission_expenses['inflation-adjusted expenses']/customer_total['avg_customers_per_month']\n",
    "transmission_expense_per_customer_mile = transmission_expenses['inflation-adjusted expenses']/(customer_total['avg_customers_per_month']*transmission_line_length_miles['transmission_line_length_miles'])\n",
    "transmission_expense_per_mwh_sold = transmission_expenses['inflation-adjusted expenses']/megawatt_hours_sold_sales_to_ultimate_consumers['megawatt_hours_sold_sales_to_ultimate_consumers']\n",
    "transmission_expense_per_mwh_mile = transmission_expenses['inflation-adjusted expenses']/(megawatt_hours_sold_sales_to_ultimate_consumers['megawatt_hours_sold_sales_to_ultimate_consumers']*transmission_line_length_miles['transmission_line_length_miles'])\n",
    "\n",
    "\n",
    "distribution_expenses['year_dt']=pd.to_datetime(distribution_expenses.report_year, format='%Y')\n",
    "real_distribution_expenses = distribution_expenses.apply(lambda x: cpi.inflate(x[\"distribution_expenses\"], \n",
    "                                                                               x[\"year_dt\"],\n",
    "                                                                              to=pd.to_datetime(2022,format=\"%Y\")),\n",
    "                                                                               axis=1)\n",
    "distribution_expenses['inflation-adjusted expenses']= real_distribution_expenses\n",
    "\n",
    "distribution_expense_per_customer = distribution_expenses['inflation-adjusted expenses']/customer_total['avg_customers_per_month']\n",
    "distribution_expense_per_mwh_sold = distribution_expenses['inflation-adjusted expenses']/megawatt_hours_sold_sales_to_ultimate_consumers['megawatt_hours_sold_sales_to_ultimate_consumers']\n",
    "\n",
    "\n",
    "\n",
    "\n",
    "\n",
    "fig,axs = plt.subplots(nrows=4,ncols=2,figsize=(12,16))\n",
    "plt.suptitle(\"All expenses inflation adjusted to 2022 (CPI-U)\")\n",
    "axs[0, 0].plot(transmission_expenses['year_dt'],transmission_expense_per_mile)\n",
    "axs[0, 0].set_title(\"transmission_expense_per_mile\")\n",
    "axs[0, 1].plot(transmission_expenses['year_dt'],transmission_expense_per_customer)\n",
    "axs[0, 1].set_title(\"transmission_expense_per_customer\")\n",
    "axs[1, 0].plot(transmission_expenses['year_dt'],transmission_expense_per_customer_mile)\n",
    "axs[1, 0].set_title(\"transmission_expense_per_customer_mile.\")\n",
    "axs[1, 1].plot(transmission_expenses['year_dt'],transmission_expense_per_mwh_sold)\n",
    "axs[1, 1].set_title(\"transmission_expense_per_mwh_sold\")\n",
    "axs[2, 0].plot(transmission_expenses['year_dt'],distribution_expense_per_customer)\n",
    "axs[2, 0].set_title(\"distribution_expense_per_customer\")\n",
    "axs[2, 1].plot(transmission_expenses['year_dt'],distribution_expense_per_mwh_sold)\n",
    "axs[2, 1].set_title(\"distribution_expense_per_mwh_sold\")\n",
    "\n",
    "axs[3, 0].plot(transmission_expenses['year_dt'],transmission_expense_per_mwh_mile)\n",
    "axs[3, 0].set_title(\"transmission_expense_per_mwh-mile\")\n",
    "\n",
    "fig.tight_layout()\n",
    "plt.show()\n",
    "fig.savefig('../graphs/inflation adjusted & normalized T&D costs over time.png',bbox_inches='tight',dpi=600)\n",
    "\n"
   ]
  },
  {
   "cell_type": "markdown",
   "id": "a8ae5667",
   "metadata": {},
   "source": [
    "# Repeating analysis, breaking down transmission costs by U/O"
   ]
  },
  {
   "cell_type": "code",
   "execution_count": 58,
   "id": "25abd6b2",
   "metadata": {},
   "outputs": [],
   "source": [
    "transmission_expenses['year_dt']=pd.to_datetime(transmission_expenses.report_year, format='%Y')\n",
    "real_transmission_expenses = transmission_expenses.apply(lambda x: cpi.inflate(x[\"transmission_expenses\"], \n",
    "                                                                               x[\"year_dt\"],\n",
    "                                                                              to=pd.to_datetime(2022,format=\"%Y\")),\n",
    "                                                                               axis=1)\n",
    "transmission_expenses['inflation-adjusted expenses']= real_transmission_expenses\n",
    "\n",
    "transmission_expense_per_mile = transmission_expenses['inflation-adjusted expenses']/transmission_line_length_miles['transmission_line_length_miles']\n",
    "transmission_expense_per_customer = transmission_expenses['inflation-adjusted expenses']/customer_total['avg_customers_per_month']\n",
    "transmission_expense_per_customer_mile = transmission_expenses['inflation-adjusted expenses']/(customer_total['avg_customers_per_month']*transmission_line_length_miles['transmission_line_length_miles'])\n",
    "transmission_expense_per_mwh_sold = transmission_expenses['inflation-adjusted expenses']/megawatt_hours_sold_sales_to_ultimate_consumers['megawatt_hours_sold_sales_to_ultimate_consumers']\n",
    "transmission_expense_per_mwh_mile = transmission_expenses['inflation-adjusted expenses']/(megawatt_hours_sold_sales_to_ultimate_consumers['megawatt_hours_sold_sales_to_ultimate_consumers']*transmission_line_length_miles['transmission_line_length_miles'])\n",
    "\n",
    "\n",
    "distribution_expenses['year_dt']=pd.to_datetime(distribution_expenses.report_year, format='%Y')\n",
    "real_distribution_expenses = distribution_expenses.apply(lambda x: cpi.inflate(x[\"distribution_expenses\"], \n",
    "                                                                               x[\"year_dt\"],\n",
    "                                                                              to=pd.to_datetime(2022,format=\"%Y\")),\n",
    "                                                                               axis=1)\n",
    "distribution_expenses['inflation-adjusted expenses']= real_distribution_expenses\n",
    "\n",
    "distribution_expense_per_customer = distribution_expenses['inflation-adjusted expenses']/customer_total['avg_customers_per_month']\n",
    "distribution_expense_per_mwh_sold = distribution_expenses['inflation-adjusted expenses']/megawatt_hours_sold_sales_to_ultimate_consumers['megawatt_hours_sold_sales_to_ultimate_consumers']\n",
    "\n",
    "\n",
    "\n",
    "\n",
    "\n",
    "fig,axs = plt.subplots(nrows=4,ncols=2,figsize=(12,16))\n",
    "plt.suptitle(\"All expenses inflation adjusted to 2022 (CPI-U)\")\n",
    "axs[0, 0].plot(transmission_expenses['year_dt'],transmission_expense_per_mile)\n",
    "axs[0, 0].set_title(\"transmission_expense_per_mile\")\n",
    "axs[0, 1].plot(transmission_expenses['year_dt'],transmission_expense_per_customer)\n",
    "axs[0, 1].set_title(\"transmission_expense_per_customer\")\n",
    "axs[1, 0].plot(transmission_expenses['year_dt'],transmission_expense_per_customer_mile)\n",
    "axs[1, 0].set_title(\"transmission_expense_per_customer_mile.\")\n",
    "axs[1, 1].plot(transmission_expenses['year_dt'],transmission_expense_per_mwh_sold)\n",
    "axs[1, 1].set_title(\"transmission_expense_per_mwh_sold\")\n",
    "axs[2, 0].plot(transmission_expenses['year_dt'],distribution_expense_per_customer)\n",
    "axs[2, 0].set_title(\"distribution_expense_per_customer\")\n",
    "axs[2, 1].plot(transmission_expenses['year_dt'],distribution_expense_per_mwh_sold)\n",
    "axs[2, 1].set_title(\"distribution_expense_per_mwh_sold\")\n",
    "\n",
    "axs[3, 0].plot(transmission_expenses['year_dt'],transmission_expense_per_mwh_mile)\n",
    "axs[3, 0].set_title(\"transmission_expense_per_mwh-mile\")\n",
    "\n",
    "fig.tight_layout()\n",
    "plt.show()\n",
    "fig.savefig('../graphs/inflation adjusted & normalized T&D costs over time.png',bbox_inches='tight',dpi=600)\n",
    "\n"
   ]
  },
  {
   "cell_type": "markdown",
   "id": "54f832f0",
   "metadata": {},
   "source": [
    "## Repeating analysis for NERC subregion subset"
   ]
  },
  {
   "cell_type": "code",
   "execution_count": 59,
   "id": "b9839838",
   "metadata": {},
   "outputs": [],
   "source": [
    "state_trans_len=nerc_interconn_subset_data_disagg.groupby(['Code','report_year']).agg(sum).reset_index()[['report_year','Code','transmission_line_and_structures_length_miles','transmission_line_length_miles']]\n",
    "state_trans_len['total'] = state_trans_len['transmission_line_and_structures_length_miles']+state_trans_len['transmission_line_length_miles']\n",
    "\n",
    "for state in state_trans_len['Code'].unique():\n",
    "    st_data = state_trans_len[state_trans_len['Code']==state]\n",
    "    plt.plot(st_data['report_year'],st_data['total'],label=state)\n",
    "plt.legend(loc='right',bbox_to_anchor=(1.55,0.5),ncol=3)"
   ]
  },
  {
   "cell_type": "code",
   "execution_count": 60,
   "id": "a7b2c432",
   "metadata": {},
   "outputs": [],
   "source": [
    "capex_total = nerc_interconn_subset_data_disagg.groupby(['report_year','NERC'])['capex_total'].agg('sum').reset_index(drop=False)\n",
    "opex_total = nerc_interconn_subset_data_disagg.groupby(['report_year','NERC'])['opex_total'].agg('sum').reset_index(drop=False)\n",
    "megawatt_hours_sold_sales_to_ultimate_consumers = nerc_interconn_subset_data_disagg.groupby(['report_year','NERC'])['megawatt_hours_sold_sales_to_ultimate_consumers'].agg('sum').reset_index(drop=False)\n",
    "transmission_line_length_miles = nerc_interconn_subset_data_disagg.groupby(['report_year','NERC'])['transmission_line_length_miles'].agg('sum').reset_index(drop=False)\n",
    "transmission_expenses = nerc_interconn_subset_data_disagg.groupby(['report_year','NERC'])['transmission_expenses'].agg('sum').reset_index(drop=False)\n",
    "distribution_expenses = nerc_interconn_subset_data_disagg.groupby(['report_year','NERC'])['distribution_expenses'].agg('sum').reset_index(drop=False)\n",
    "customer_total = nerc_interconn_subset_data_disagg.groupby(['report_year','NERC'])['avg_customers_per_month'].agg('sum').reset_index(drop=False)\n",
    "\n",
    "\n",
    "fig,axs = plt.subplots(nrows=4,ncols=2,figsize=(12,16))\n",
    "plt.suptitle(\"All expenses inflation adjusted to 2022 (CPI-U)\")\n",
    "\n",
    "axs[0, 0].set_title(\"transmission_expense_per_mile\")\n",
    "axs[0, 1].set_title(\"transmission_expense_per_customer\")\n",
    "axs[1, 0].set_title(\"transmission_expense_per_customer_mile.\")\n",
    "axs[1, 1].set_title(\"transmission_expense_per_mwh_sold\")\n",
    "axs[2, 0].set_title(\"distribution_expense_per_customer\")\n",
    "axs[2, 1].set_title(\"distribution_expense_per_mwh_sold\")\n",
    "\n",
    "fig.tight_layout()\n",
    "\n",
    "\n",
    "for nerc_reg,color in {'Eastern':'blue','Western':'green','Texas':'red'}.items():\n",
    "    \n",
    "    data_subset = nerc_interconn_subset_data_disagg[nerc_interconn_subset_data_disagg['NERC']==nerc_reg]\n",
    "    \n",
    "    capex_total = data_subset.groupby('report_year')['capex_total'].agg('sum').reset_index(drop=False)\n",
    "    opex_total = data_subset.groupby('report_year')['opex_total'].agg('sum').reset_index(drop=False)\n",
    "    megawatt_hours_sold_sales_to_ultimate_consumers = data_subset.groupby('report_year')['megawatt_hours_sold_sales_to_ultimate_consumers'].agg('sum').reset_index(drop=False)\n",
    "    transmission_line_length_miles = data.groupby('report_year')['transmission_line_length_miles'].agg('sum').reset_index(drop=False)\n",
    "    transmission_expenses = data_subset.groupby('report_year')['transmission_expenses'].agg('sum').reset_index(drop=False)\n",
    "    distribution_expenses = data_subset.groupby('report_year')['distribution_expenses'].agg('sum').reset_index(drop=False)\n",
    "    customer_total = data_subset.groupby('report_year')['avg_customers_per_month'].agg('sum').reset_index(drop=False)\n",
    "    \n",
    "\n",
    "    transmission_expenses['year_dt']=pd.to_datetime(transmission_expenses.report_year, format='%Y')\n",
    "    real_transmission_expenses = transmission_expenses.apply(lambda x: cpi.inflate(x[\"transmission_expenses\"], \n",
    "                                                                                   x[\"year_dt\"],\n",
    "                                                                                  to=pd.to_datetime(2022,format=\"%Y\")),\n",
    "                                                                                   axis=1)\n",
    "    transmission_expenses['inflation-adjusted expenses']= real_transmission_expenses\n",
    "\n",
    "    transmission_expense_per_mile = transmission_expenses['inflation-adjusted expenses']/transmission_line_length_miles['transmission_line_length_miles']\n",
    "    transmission_expense_per_customer = transmission_expenses['inflation-adjusted expenses']/customer_total['avg_customers_per_month']\n",
    "    transmission_expense_per_customer_mile = transmission_expenses['inflation-adjusted expenses']/(customer_total['avg_customers_per_month']*transmission_line_length_miles['transmission_line_length_miles'])\n",
    "    transmission_expense_per_mwh_sold = transmission_expenses['inflation-adjusted expenses']/megawatt_hours_sold_sales_to_ultimate_consumers['megawatt_hours_sold_sales_to_ultimate_consumers']\n",
    "    transmission_expense_per_mwh_mile = transmission_expenses['inflation-adjusted expenses']/(megawatt_hours_sold_sales_to_ultimate_consumers['megawatt_hours_sold_sales_to_ultimate_consumers']*transmission_line_length_miles['transmission_line_length_miles'])\n",
    "\n",
    "\n",
    "\n",
    "\n",
    "\n",
    "    distribution_expenses['year_dt']=pd.to_datetime(distribution_expenses.report_year, format='%Y')\n",
    "    real_distribution_expenses = distribution_expenses.apply(lambda x: cpi.inflate(x[\"distribution_expenses\"], \n",
    "                                                                                   x[\"year_dt\"],\n",
    "                                                                                  to=pd.to_datetime(2022,format=\"%Y\")),\n",
    "                                                                                   axis=1)\n",
    "    distribution_expenses['inflation-adjusted expenses']= real_distribution_expenses\n",
    "\n",
    "    distribution_expense_per_customer = distribution_expenses['inflation-adjusted expenses']/customer_total['avg_customers_per_month']\n",
    "    distribution_expense_per_mwh_sold = distribution_expenses['inflation-adjusted expenses']/megawatt_hours_sold_sales_to_ultimate_consumers['megawatt_hours_sold_sales_to_ultimate_consumers']\n",
    "\n",
    "    axs[0, 0].plot(transmission_expenses['year_dt'],transmission_expense_per_mile,label=nerc_reg,color=color)\n",
    "    axs[0, 1].plot(transmission_expenses['year_dt'],transmission_expense_per_customer,label=nerc_reg,color=color)\n",
    "    axs[1, 0].plot(transmission_expenses['year_dt'],transmission_expense_per_customer_mile,label=nerc_reg,color=color)\n",
    "    axs[1, 1].plot(transmission_expenses['year_dt'],transmission_expense_per_mwh_sold,label=nerc_reg,color=color)\n",
    "    axs[2, 0].plot(transmission_expenses['year_dt'],distribution_expense_per_customer,label=nerc_reg,color=color)\n",
    "    axs[2, 1].plot(transmission_expenses['year_dt'],distribution_expense_per_mwh_sold,label=nerc_reg,color=color)\n",
    "    axs[3, 0].plot(transmission_expenses['year_dt'],transmission_expense_per_mwh_mile,label=nerc_reg,color=color)\n",
    "    axs[3, 0].set_title(\"transmission_expense_per_mwh-mile\")\n",
    "\n",
    "\n",
    "\n",
    "custom_lines = [Line2D([0], [0], color='blue'),\n",
    "                Line2D([0], [0], color='red'),\n",
    "                Line2D([0], [0], color='green')\n",
    "               ]\n",
    "fig.legend(custom_lines, ['Eastern', 'Texas', 'Western'], \n",
    "           loc=(0,0),\n",
    "           bbox_to_anchor=(1,0.5),\n",
    "           fontsize=14,\n",
    "          title='Interconnection:',\n",
    "           title_fontsize=15\n",
    "          )\n",
    "plt.show()\n",
    "\n",
    "fig.savefig('../graphs/inflation adjusted & normalized T&D costs over time - nerc subset.png',bbox_inches='tight',dpi=600)\n",
    "\n",
    "\n"
   ]
  },
  {
   "cell_type": "markdown",
   "id": "ea9f246a",
   "metadata": {},
   "source": [
    "## Repeating for Western Interconn distribution expenses"
   ]
  },
  {
   "cell_type": "code",
   "execution_count": 61,
   "id": "06d88fc6",
   "metadata": {
    "scrolled": true
   },
   "outputs": [],
   "source": [
    "western_state_sum = nerc_interconn_subset_data_disagg[nerc_interconn_subset_data_disagg['NERC']=='Western'].groupby(['report_year','Code']).agg(sum).reset_index()\n",
    "states = western_state_sum['Code'].unique()\n",
    "colors = ['#9e0142','#d53e4f','#f46d43','#fdae61','#fee08b','#e6f598','#abdda4','#66c2a5','#3288bd']\n",
    "linestyles = ['-','--','-','-','-','-','-','-','-']\n",
    "handles=[]\n",
    "fig,ax = plt.subplots(nrows=1,ncols=1,figsize=(8,4))\n",
    "\n",
    "for idx,state in enumerate(states):\n",
    "    color = colors[idx]\n",
    "    ls=linestyles[idx]\n",
    "    state_data = western_state_sum[western_state_sum['Code']==state]\n",
    "    \n",
    "    \n",
    "    distribution_expenses = state_data.groupby('report_year')['distribution_expenses'].agg('sum').reset_index(drop=False)\n",
    "    distribution_expenses['year_dt']=pd.to_datetime(distribution_expenses.report_year, format='%Y')\n",
    "    real_distribution_expenses = distribution_expenses.apply(lambda x: cpi.inflate(x[\"distribution_expenses\"], \n",
    "                                                                                   x[\"year_dt\"],\n",
    "                                                                                  to=pd.to_datetime(2022,format=\"%Y\")),\n",
    "                                                            axis=1)\n",
    "\n",
    "    \n",
    "    ax.plot(distribution_expenses['year_dt'],real_distribution_expenses,label=state,color=color,ls=ls)\n",
    "    handles.append(Line2D([0], [0], color=color,ls=ls))\n",
    "    \n",
    "fig.legend(handles, states, \n",
    "           loc=(0,0),\n",
    "           bbox_to_anchor=(0.95,0.3),\n",
    "           fontsize=10,\n",
    "          title='States:',\n",
    "           title_fontsize=11\n",
    "          )\n",
    "\n",
    "ax.xaxis.set_major_locator(mdates.YearLocator(2))\n",
    "ax.xaxis.set_major_formatter(mdates.DateFormatter('%Y'))\n",
    "plt.gcf().autofmt_xdate()\n",
    "\n",
    "\n",
    "ax.set_title(\"Distribution Expenses in the Western Interconnection\\nInflation Adjusted to 2022 with CPIU\")\n",
    "plt.xlabel('year')\n",
    "plt.ylabel('dollars')\n",
    "plt.grid(True)\n",
    "plt.show()\n",
    "\n",
    "fig.savefig(\"../graphs/Distribution Expenses in the Western Interconnection.png\",dpi=600,bbox_inches='tight')"
   ]
  },
  {
   "cell_type": "code",
   "execution_count": 62,
   "id": "4f8be8ad",
   "metadata": {},
   "outputs": [],
   "source": [
    "ca_sum = nerc_interconn_subset_data_disagg[nerc_interconn_subset_data_disagg['Code']=='CA'].groupby(['report_year','utility_name_ferc1_x']).agg(sum).reset_index()\n",
    "utils = ca_sum['utility_name_ferc1_x'].unique()\n",
    "colors = ['#9e0142','#f46d43','#abdda4','#3288bd']\n",
    "linestyles = ['-','-','-','-']\n",
    "handles=[]\n",
    "fig,ax = plt.subplots(nrows=1,ncols=1,figsize=(8,4))\n",
    "\n",
    "for idx,util in enumerate(utils):\n",
    "    color = colors[idx]\n",
    "    ls=linestyles[idx]\n",
    "    util_data = ca_sum[ca_sum['utility_name_ferc1_x']==util]\n",
    "    \n",
    "    distribution_expenses = util_data.groupby('report_year')['distribution_expenses'].agg('sum').reset_index(drop=False)\n",
    "    distribution_expenses['year_dt']=pd.to_datetime(distribution_expenses.report_year, format='%Y')\n",
    "    real_distribution_expenses = distribution_expenses.apply(lambda x: cpi.inflate(x[\"distribution_expenses\"], \n",
    "                                                                                   x[\"year_dt\"],\n",
    "                                                                                  to=pd.to_datetime(2022,format=\"%Y\")),\n",
    "                                                            axis=1)\n",
    "\n",
    "    \n",
    "    ax.plot(distribution_expenses['year_dt'],real_distribution_expenses,label=util,color=color,ls=ls)\n",
    "    handles.append(Line2D([0], [0], color=color,ls=ls))\n",
    "    \n",
    "fig.legend(handles, utils, \n",
    "           loc=(0,0),\n",
    "           bbox_to_anchor=(0.95,0.3),\n",
    "           fontsize=10,\n",
    "          title='CA utilities:',\n",
    "           title_fontsize=11\n",
    "          )\n",
    "\n",
    "ax.xaxis.set_major_locator(mdates.YearLocator(2))\n",
    "ax.xaxis.set_major_formatter(mdates.DateFormatter('%Y'))\n",
    "plt.gcf().autofmt_xdate()\n",
    "\n",
    "\n",
    "ax.set_title(\"Distribution Expenses in CA\\nInflation Adjusted to 2022 with CPIU\")\n",
    "plt.xlabel('year')\n",
    "plt.ylabel('dollars')\n",
    "plt.grid(True)\n",
    "plt.show()\n",
    "\n",
    "fig.savefig(\"../graphs/Distribution Expenses in CA.png\",dpi=600,bbox_inches='tight')"
   ]
  },
  {
   "cell_type": "markdown",
   "id": "04a9c7cc",
   "metadata": {},
   "source": [
    "## Repeating for PG&E distr expense types"
   ]
  },
  {
   "cell_type": "code",
   "execution_count": 63,
   "id": "0c30f141",
   "metadata": {},
   "outputs": [],
   "source": [
    "pge_sum = nerc_interconn_subset_data_disagg[nerc_interconn_subset_data_disagg['utility_name_ferc1_x']=='PACIFIC GAS AND ELECTRIC COMPANY'].groupby('report_year').sum().reset_index()\n",
    "\n",
    "pge_sum['year_dt']=pd.to_datetime(pge_sum.report_year, format='%Y')\n",
    "pge_sum['real_distribution_maintenance_expense_electric'] = pge_sum.apply(lambda x: cpi.inflate(x[\"distribution_maintenance_expense_electric\"], \n",
    "                                                                                   x[\"year_dt\"],\n",
    "                                                                                  to=pd.to_datetime(2022,format=\"%Y\")),\n",
    "                                                            axis=1)\n",
    "pge_sum['real_distribution_operation_expenses_electric'] = pge_sum.apply(lambda x: cpi.inflate(x[\"distribution_operation_expenses_electric\"], \n",
    "                                                                                   x[\"year_dt\"],\n",
    "                                                                                  to=pd.to_datetime(2022,format=\"%Y\")),\n",
    "                                                            axis=1)\n",
    "pge_sum['real_transmission_maintenance_expense_electric'] = pge_sum.apply(lambda x: cpi.inflate(x[\"transmission_maintenance_expense_electric\"], \n",
    "                                                                                   x[\"year_dt\"],\n",
    "                                                                                  to=pd.to_datetime(2022,format=\"%Y\")),\n",
    "                                                            axis=1)\n",
    "pge_sum['real_transmission_operation_expenses_electric'] = pge_sum.apply(lambda x: cpi.inflate(x[\"transmission_operation_expense\"], \n",
    "                                                                                   x[\"year_dt\"],\n",
    "                                                                                  to=pd.to_datetime(2022,format=\"%Y\")),\n",
    "                                                            axis=1)\n"
   ]
  },
  {
   "cell_type": "code",
   "execution_count": 64,
   "id": "105eb548",
   "metadata": {
    "scrolled": false
   },
   "outputs": [],
   "source": [
    "plt.plot(pge_sum['report_year'],pge_sum['real_transmission_maintenance_expense_electric'],label='Maintenance')\n",
    "plt.plot(pge_sum['report_year'],pge_sum['real_transmission_operation_expenses_electric'],label='Operation')\n",
    "plt.legend()\n",
    "plt.grid(True)\n",
    "plt.title(\"PG&E Expenses on Transmission\\nInflation Adjusted to 2022 with CPIU\")\n",
    "plt.savefig('../graphs/PG&E Expenses on Transmission.png',dpi=600,bbox_inches='tight')"
   ]
  },
  {
   "cell_type": "code",
   "execution_count": 65,
   "id": "f2e5f014",
   "metadata": {
    "scrolled": false
   },
   "outputs": [],
   "source": [
    "plt.plot(pge_sum['report_year'],pge_sum['real_distribution_maintenance_expense_electric'],label='Maintenance')\n",
    "plt.plot(pge_sum['report_year'],pge_sum['real_distribution_operation_expenses_electric'],label='Operation')\n",
    "plt.legend()\n",
    "plt.grid(True)\n",
    "plt.title(\"PG&E Expenses on Distribution\\nInflation Adjusted to 2022 with CPIU\")\n",
    "plt.savefig('../graphs/PG&E Expenses on Distribution.png',dpi=600,bbox_inches='tight')"
   ]
  },
  {
   "cell_type": "code",
   "execution_count": 66,
   "id": "e9100b22",
   "metadata": {},
   "outputs": [],
   "source": [
    "pge_sum[['overhead_line_expenses','report_year']]\n",
    "## NOTE THAT OVERHEAD LINE EXPENSES (with an S) is for DISTRIBUTION but without S is TRANSMISSION"
   ]
  },
  {
   "cell_type": "code",
   "execution_count": 67,
   "id": "1de8ebc9",
   "metadata": {
    "scrolled": false
   },
   "outputs": [],
   "source": [
    "maintenance_trans_components=['maintenance_of_communication_equipment_electric_transmission',\n",
    "'maintenance_of_computer_hardware_transmission',\n",
    "'maintenance_of_computer_software_transmission',\n",
    "'maintenance_of_miscellaneous_regional_transmission_plant',\n",
    "'maintenance_of_miscellaneous_transmission_plant',\n",
    "'maintenance_of_overhead_lines_transmission',\n",
    "'maintenance_of_structures_transmission_expense',\n",
    "'maintenance_of_underground_lines_transmission',\n",
    "'maintenance_supervision_and_engineering_electric_transmission_expenses']\n",
    "\n",
    "for idx,component in enumerate(maintenance_trans_components):\n",
    "    pge_sum['real_'+component]=pge_sum.apply(lambda x: cpi.inflate(x[component], x['report_year'],to=2022), axis=1)\n",
    "    plt.plot(pge_sum['report_year'],pge_sum['real_'+component],label=component)#,ls=linestyles[idx])\n",
    "plt.legend(loc='right',bbox_to_anchor=(2.2,0.5))\n",
    "plt.grid(True)\n",
    "plt.title('PG&E Transmission - Maintenance Expenses (2022$ CPIU)')\n",
    "plt.savefig('../graphs/PG&E Transmission Maintenance Expenses (2022$).png',dpi=600,bbox_inches='tight')"
   ]
  },
  {
   "cell_type": "code",
   "execution_count": 68,
   "id": "052d9fb6",
   "metadata": {
    "scrolled": false
   },
   "outputs": [],
   "source": [
    "operation_trans_components=['generation_interconnection_studies',\n",
    "'load_dispatch_monitor_and_operate_transmission_system',\n",
    "'overhead_line_expense',\n",
    "'load_dispatch_reliability',\n",
    "'load_dispatch_transmission_service_and_scheduling',\n",
    "'miscellaneous_transmission_expenses',\n",
    "'operation_supervision_and_engineering_electric_transmission_expenses',\n",
    "'overhead_line_expense',\n",
    "'reliability_planning_and_standards_development',\n",
    "'reliability_planning_and_standards_development_services',\n",
    "'rents_transmission_electric_expense',\n",
    "'scheduling_system_control_and_dispatch_services',\n",
    "'station_expenses_transmission_expense',\n",
    "'transmission_of_electricity_by_others',\n",
    "'transmission_service_studies',\n",
    "'underground_line_expenses_transmission_expense']\n",
    "\n",
    "for idx,component in enumerate(operation_trans_components):\n",
    "    if pge_sum[component].iat[-1]>0.2e8:\n",
    "        plt.plot(pge_sum['report_year'],pge_sum[component],label=component)#,ls=linestyles[idx])\n",
    "        pge_sum['real_'+component]=pge_sum.apply(lambda x: cpi.inflate(x[component], x['report_year'],to=2022), axis=1)\n",
    "plt.legend(loc='right',bbox_to_anchor=(2.2,0.5))\n",
    "plt.grid(True)\n",
    "plt.title('PG&E Transmission - Operations Expenses (2022$ CPIU)')\n",
    "plt.savefig('../graphs/PG&E Transmission Operations Expenses (2022$ CPIU).png',dpi=600,bbox_inches='tight')"
   ]
  },
  {
   "cell_type": "code",
   "execution_count": 69,
   "id": "8bd147a6",
   "metadata": {
    "scrolled": false
   },
   "outputs": [],
   "source": [
    "maintenance_distr_components=['maintenance_of_line_transformers',\n",
    "                                                                                'maintenance_of_meters',\n",
    "                                                                                'maintenance_of_miscellaneous_distribution_plant',\n",
    "                                                                                'maintenance_of_overhead_lines',\n",
    "                                                                                'maintenance_of_station_equipment',\n",
    "                                                                                'maintenance_of_structures_distribution_expense',\n",
    "                                                                                'maintenance_of_underground_lines',\n",
    "                                                                                'maintenance_supervision_and_engineering',\n",
    "                             'maintenance_of_line_transformers',\n",
    "                             'maintenance_of_street_lighting_and_signal_systems']\n",
    "\n",
    "linestyles=['-','-','-','--','-','-','-','-','-','-']\n",
    "for idx,component in enumerate(maintenance_distr_components):\n",
    "    pge_sum['real_'+component]=pge_sum.apply(lambda x: cpi.inflate(x[component], x['report_year'],to=2022), axis=1)\n",
    "    plt.plot(pge_sum['report_year'],pge_sum['real_'+component],label=component,ls=linestyles[idx])\n",
    "plt.legend(loc='right',bbox_to_anchor=(1.9,0.5))\n",
    "plt.grid(True)\n",
    "plt.title('PG&E Distribution Maintenance Expenses (2022$ CPIU)')\n",
    "plt.savefig('../graphs/PG&E Distribution Maintenance Expenses (2022$).png',dpi=600,bbox_inches='tight')"
   ]
  },
  {
   "cell_type": "code",
   "execution_count": 70,
   "id": "f224dbef",
   "metadata": {
    "scrolled": false
   },
   "outputs": [],
   "source": [
    "operation_distr_components=['operation_supervision_and_engineering_distribution_expense',\n",
    "                                                                                'load_dispatching',\n",
    "                                                                                'station_expenses_distribution',\n",
    "                                                                                'overhead_line_expenses',\n",
    "                                                                                'underground_line_expenses',\n",
    "                                                                                'street_lighting_and_signal_system_expenses',\n",
    "                                                                                'meter_expenses',\n",
    "                                                                                'customer_installations_expenses',\n",
    "                                                                                'miscellaneous_distribution_expenses',\n",
    "                                                                                'rents_distribution_expense']\n",
    "\n",
    "for idx,component in enumerate(operation_distr_components):\n",
    "    plt.plot(pge_sum['report_year'],pge_sum[component],label=component)#,ls=linestyles[idx])\n",
    "    pge_sum['real_'+component]=pge_sum.apply(lambda x: cpi.inflate(x[component], x['report_year'],to=2022), axis=1)\n",
    "plt.legend(loc='right',bbox_to_anchor=(1.9,0.5))\n",
    "plt.grid(True)\n",
    "plt.title('PG&E Distribution - Operations Expenses (2022$ CPIU)')\n",
    "plt.savefig('../graphs/PG&E Distribution Operations Expenses (2022$ CPIU).png',dpi=600,bbox_inches='tight')"
   ]
  },
  {
   "cell_type": "code",
   "execution_count": 71,
   "id": "ac34b29d",
   "metadata": {
    "scrolled": false
   },
   "outputs": [],
   "source": [
    "td_capital_additions_components=['additions_asset_retirement_costs_for_transmission_plant_transmission_plant',\n",
    "'additions_energy_storage_equipment_transmission_plant',\n",
    "'additions_land_and_land_rights_transmission_plant',\n",
    "'additions_overhead_conductors_and_devices_transmission_plant',\n",
    "'additions_poles_and_fixtures_transmission_plant',\n",
    "'additions_roads_and_trails_transmission_plant',\n",
    "'additions_station_equipment_transmission_plant',\n",
    "'additions_structures_and_improvements_transmission_plant',\n",
    "'additions_towers_and_fixtures_transmission_plant',\n",
    "'additions_underground_conductors_and_devices_transmission_plant',\n",
    "'additions_underground_conduit_transmission_plant',\n",
    "'additions_asset_retirement_costs_for_distribution_plant_distribution_plant',\n",
    "'additions_energy_storage_equipment_distribution_plant',\n",
    "'additions_installations_on_customer_premises_distribution_plant',\n",
    "'additions_land_and_land_rights_distribution_plant',\n",
    "'additions_leased_property_on_customer_premises_distribution_plant',\n",
    "'additions_line_transformers_distribution_plant',\n",
    "'additions_meters_distribution_plant',\n",
    "'additions_overhead_conductors_and_devices_distribution_plant',\n",
    "'additions_poles_towers_and_fixtures_distribution_plant',\n",
    "'additions_services_distribution_plant',\n",
    "'additions_station_equipment_distribution_plant',\n",
    "'additions_street_lighting_and_signal_systems_distribution_plant',\n",
    "'additions_structures_and_improvements_distribution_plant',\n",
    "'additions_underground_conductors_and_devices_distribution_plant',\n",
    "'additions_underground_conduit_distribution_plant']\n",
    "\n",
    "for idx,component in enumerate(td_capital_additions_components):\n",
    "    if pge_sum[component].iat[-1]>0.2e9:\n",
    "        plt.plot(pge_sum['report_year'],pge_sum[component],label=component)#,ls=linestyles[idx])\n",
    "        pge_sum['real_'+component]=pge_sum.apply(lambda x: cpi.inflate(x[component], x['report_year'],to=2022), axis=1)\n",
    "plt.legend(loc='right',bbox_to_anchor=(2.3,0.5))\n",
    "plt.grid(True)\n",
    "plt.title('PG&E Transmission & Distribution - Capital Additions  (2022$ CPIU)')\n",
    "plt.savefig('../graphs/PG&E TD Capital Additions (2022$ CPIU).png',dpi=600,bbox_inches='tight')"
   ]
  },
  {
   "cell_type": "markdown",
   "id": "c28c5cfb",
   "metadata": {},
   "source": [
    "## Repeating for SCE distr expense types"
   ]
  },
  {
   "cell_type": "code",
   "execution_count": 72,
   "id": "8c15eeae",
   "metadata": {},
   "outputs": [],
   "source": [
    "sce_sum = nerc_interconn_subset_data_disagg[nerc_interconn_subset_data_disagg['utility_name_ferc1_x']=='Southern California Edison Company'].groupby('report_year').sum().reset_index()\n",
    "\n",
    "sce_sum['year_dt']=pd.to_datetime(pge_sum.report_year, format='%Y')\n",
    "sce_sum['real_distribution_maintenance_expense_electric'] = sce_sum.apply(lambda x: cpi.inflate(x[\"distribution_maintenance_expense_electric\"], \n",
    "                                                                                   x[\"year_dt\"],\n",
    "                                                                                  to=pd.to_datetime(2022,format=\"%Y\")),\n",
    "                                                            axis=1)\n",
    "sce_sum['real_distribution_operation_expenses_electric'] = sce_sum.apply(lambda x: cpi.inflate(x[\"distribution_operation_expenses_electric\"], \n",
    "                                                                                   x[\"year_dt\"],\n",
    "                                                                                  to=pd.to_datetime(2022,format=\"%Y\")),\n",
    "                                                            axis=1)\n",
    "sce_sum['real_transmission_maintenance_expense_electric'] = sce_sum.apply(lambda x: cpi.inflate(x[\"transmission_maintenance_expense_electric\"], \n",
    "                                                                                   x[\"year_dt\"],\n",
    "                                                                                  to=pd.to_datetime(2022,format=\"%Y\")),\n",
    "                                                            axis=1)\n",
    "sce_sum['real_transmission_operation_expenses_electric'] = sce_sum.apply(lambda x: cpi.inflate(x[\"transmission_operation_expense\"], \n",
    "                                                                                   x[\"year_dt\"],\n",
    "                                                                                  to=pd.to_datetime(2022,format=\"%Y\")),\n",
    "                                                            axis=1)\n"
   ]
  },
  {
   "cell_type": "code",
   "execution_count": 73,
   "id": "68894ee6",
   "metadata": {
    "scrolled": false
   },
   "outputs": [],
   "source": [
    "plt.plot(sce_sum['report_year'],sce_sum['real_transmission_maintenance_expense_electric'],label='Maintenance')\n",
    "plt.plot(sce_sum['report_year'],sce_sum['real_transmission_operation_expenses_electric'],label='Operation')\n",
    "plt.legend()\n",
    "plt.grid(True)\n",
    "plt.title(\"SCE Expenses on Transmission\\nInflation Adjusted to 2022 with CPIU\")\n",
    "plt.savefig('../graphs/SCE Expenses on Transmission.png',dpi=600,bbox_inches='tight')"
   ]
  },
  {
   "cell_type": "code",
   "execution_count": 74,
   "id": "1f96ddb7",
   "metadata": {
    "scrolled": false
   },
   "outputs": [],
   "source": [
    "plt.plot(sce_sum['report_year'],sce_sum['real_distribution_maintenance_expense_electric'],label='Maintenance')\n",
    "plt.plot(sce_sum['report_year'],sce_sum['real_distribution_operation_expenses_electric'],label='Operation')\n",
    "plt.legend()\n",
    "plt.grid(True)\n",
    "plt.title(\"SCE Expenses on Distribution\\nInflation Adjusted to 2022 with CPIU\")\n",
    "plt.savefig('../graphs/SCE Expenses on Distribution.png',dpi=600,bbox_inches='tight')"
   ]
  },
  {
   "cell_type": "code",
   "execution_count": 75,
   "id": "1b5eaf49",
   "metadata": {},
   "outputs": [],
   "source": [
    "pge_sum[['overhead_line_expenses','report_year']]\n",
    "## NOTE THAT OVERHEAD LINE EXPENSES (with an S) is for DISTRIBUTION but without S is TRANSMISSION"
   ]
  },
  {
   "cell_type": "code",
   "execution_count": 76,
   "id": "3b022f63",
   "metadata": {
    "scrolled": false
   },
   "outputs": [],
   "source": [
    "maintenance_trans_components=['maintenance_of_communication_equipment_electric_transmission',\n",
    "'maintenance_of_computer_hardware_transmission',\n",
    "'maintenance_of_computer_software_transmission',\n",
    "'maintenance_of_miscellaneous_regional_transmission_plant',\n",
    "'maintenance_of_miscellaneous_transmission_plant',\n",
    "'maintenance_of_overhead_lines_transmission',\n",
    "'maintenance_of_structures_transmission_expense',\n",
    "'maintenance_of_underground_lines_transmission',\n",
    "'maintenance_supervision_and_engineering_electric_transmission_expenses']\n",
    "\n",
    "for idx,component in enumerate(maintenance_trans_components):\n",
    "    sce_sum['real_'+component]=sce_sum.apply(lambda x: cpi.inflate(x[component], x['report_year'],to=2022), axis=1)\n",
    "    plt.plot(sce_sum['report_year'],sce_sum['real_'+component],label=component)#,ls=linestyles[idx])\n",
    "plt.legend(loc='right',bbox_to_anchor=(2.2,0.5))\n",
    "plt.grid(True)\n",
    "plt.title('SCE Transmission - Maintenance Expenses (2022$ CPIU)')\n",
    "plt.savefig('../graphs/SCE Transmission Maintenance Expenses (2022$).png',dpi=600,bbox_inches='tight')"
   ]
  },
  {
   "cell_type": "code",
   "execution_count": 77,
   "id": "c1a42bf4",
   "metadata": {
    "scrolled": false
   },
   "outputs": [],
   "source": [
    "operation_trans_components=['generation_interconnection_studies',\n",
    "'load_dispatch_monitor_and_operate_transmission_system',\n",
    "'overhead_line_expense',\n",
    "'load_dispatch_reliability',\n",
    "'load_dispatch_transmission_service_and_scheduling',\n",
    "'miscellaneous_transmission_expenses',\n",
    "'operation_supervision_and_engineering_electric_transmission_expenses',\n",
    "'overhead_line_expense',\n",
    "'reliability_planning_and_standards_development',\n",
    "'reliability_planning_and_standards_development_services',\n",
    "'rents_transmission_electric_expense',\n",
    "'scheduling_system_control_and_dispatch_services',\n",
    "'station_expenses_transmission_expense',\n",
    "'transmission_of_electricity_by_others',\n",
    "'transmission_service_studies',\n",
    "'underground_line_expenses_transmission_expense']\n",
    "\n",
    "for idx,component in enumerate(operation_trans_components):\n",
    "    if sce_sum[component].iat[-1]>0.2e8:\n",
    "        plt.plot(sce_sum['report_year'],sce_sum[component],label=component)#,ls=linestyles[idx])\n",
    "        sce_sum['real_'+component]=sce_sum.apply(lambda x: cpi.inflate(x[component], x['report_year'],to=2022), axis=1)\n",
    "plt.legend(loc='right',bbox_to_anchor=(2.2,0.5))\n",
    "plt.grid(True)\n",
    "plt.title('SCE Transmission - Operations Expenses (2022$ CPIU)')\n",
    "plt.savefig('../graphs/SCE Transmission Operations Expenses (2022$ CPIU).png',dpi=600,bbox_inches='tight')"
   ]
  },
  {
   "cell_type": "code",
   "execution_count": 78,
   "id": "54046ebe",
   "metadata": {
    "scrolled": false
   },
   "outputs": [],
   "source": [
    "maintenance_distr_components=['maintenance_of_line_transformers',\n",
    "                                                                                'maintenance_of_meters',\n",
    "                                                                                'maintenance_of_miscellaneous_distribution_plant',\n",
    "                                                                                'maintenance_of_overhead_lines',\n",
    "                                                                                'maintenance_of_station_equipment',\n",
    "                                                                                'maintenance_of_structures_distribution_expense',\n",
    "                                                                                'maintenance_of_underground_lines',\n",
    "                                                                                'maintenance_supervision_and_engineering',\n",
    "                             'maintenance_of_line_transformers',\n",
    "                             'maintenance_of_street_lighting_and_signal_systems']\n",
    "\n",
    "linestyles=['-','-','-','--','-','-','-','-','-','-']\n",
    "for idx,component in enumerate(maintenance_distr_components):\n",
    "    sce_sum['real_'+component]=sce_sum.apply(lambda x: cpi.inflate(x[component], x['report_year'],to=2022), axis=1)\n",
    "    plt.plot(sce_sum['report_year'],sce_sum['real_'+component],label=component,ls=linestyles[idx])\n",
    "plt.legend(loc='right',bbox_to_anchor=(1.9,0.5))\n",
    "plt.grid(True)\n",
    "plt.title('SCE Distribution Maintenance Expenses (2022$ CPIU)')\n",
    "plt.savefig('../graphs/SCE Distribution Maintenance Expenses (2022$).png',dpi=600,bbox_inches='tight')"
   ]
  },
  {
   "cell_type": "code",
   "execution_count": 79,
   "id": "e508d2fe",
   "metadata": {
    "scrolled": false
   },
   "outputs": [],
   "source": [
    "operation_distr_components=['operation_supervision_and_engineering_distribution_expense',\n",
    "                                                                                'load_dispatching',\n",
    "                                                                                'station_expenses_distribution',\n",
    "                                                                                'overhead_line_expenses',\n",
    "                                                                                'underground_line_expenses',\n",
    "                                                                                'street_lighting_and_signal_system_expenses',\n",
    "                                                                                'meter_expenses',\n",
    "                                                                                'customer_installations_expenses',\n",
    "                                                                                'miscellaneous_distribution_expenses',\n",
    "                                                                                'rents_distribution_expense']\n",
    "\n",
    "for idx,component in enumerate(operation_distr_components):\n",
    "    plt.plot(sce_sum['report_year'],sce_sum[component],label=component)#,ls=linestyles[idx])\n",
    "    sce_sum['real_'+component]=sce_sum.apply(lambda x: cpi.inflate(x[component], x['report_year'],to=2022), axis=1)\n",
    "plt.legend(loc='right',bbox_to_anchor=(1.9,0.5))\n",
    "plt.grid(True)\n",
    "plt.title('SCE Distribution - Operations Expenses (2022$ CPIU)')\n",
    "plt.savefig('../graphs/SCE Distribution Operations Expenses (2022$ CPIU).png',dpi=600,bbox_inches='tight')"
   ]
  },
  {
   "cell_type": "code",
   "execution_count": 80,
   "id": "d9a40f0e",
   "metadata": {
    "scrolled": false
   },
   "outputs": [],
   "source": [
    "td_capital_additions_components=['additions_asset_retirement_costs_for_transmission_plant_transmission_plant',\n",
    "'additions_energy_storage_equipment_transmission_plant',\n",
    "'additions_land_and_land_rights_transmission_plant',\n",
    "'additions_overhead_conductors_and_devices_transmission_plant',\n",
    "'additions_poles_and_fixtures_transmission_plant',\n",
    "'additions_roads_and_trails_transmission_plant',\n",
    "'additions_station_equipment_transmission_plant',\n",
    "'additions_structures_and_improvements_transmission_plant',\n",
    "'additions_towers_and_fixtures_transmission_plant',\n",
    "'additions_underground_conductors_and_devices_transmission_plant',\n",
    "'additions_underground_conduit_transmission_plant',\n",
    "'additions_asset_retirement_costs_for_distribution_plant_distribution_plant',\n",
    "'additions_energy_storage_equipment_distribution_plant',\n",
    "'additions_installations_on_customer_premises_distribution_plant',\n",
    "'additions_land_and_land_rights_distribution_plant',\n",
    "'additions_leased_property_on_customer_premises_distribution_plant',\n",
    "'additions_line_transformers_distribution_plant',\n",
    "'additions_meters_distribution_plant',\n",
    "'additions_overhead_conductors_and_devices_distribution_plant',\n",
    "'additions_poles_towers_and_fixtures_distribution_plant',\n",
    "'additions_services_distribution_plant',\n",
    "'additions_station_equipment_distribution_plant',\n",
    "'additions_street_lighting_and_signal_systems_distribution_plant',\n",
    "'additions_structures_and_improvements_distribution_plant',\n",
    "'additions_underground_conductors_and_devices_distribution_plant',\n",
    "'additions_underground_conduit_distribution_plant']\n",
    "\n",
    "for idx,component in enumerate(td_capital_additions_components):\n",
    "    if pge_sum[component].iat[-1]>0.2e9:\n",
    "        plt.plot(sce_sum['report_year'],sce_sum[component],label=component)#,ls=linestyles[idx])\n",
    "        sce_sum['real_'+component]=sce_sum.apply(lambda x: cpi.inflate(x[component], x['report_year'],to=2022), axis=1)\n",
    "plt.legend(loc='right',bbox_to_anchor=(2.3,0.5))\n",
    "plt.grid(True)\n",
    "plt.title('SCE Transmission & Distribution - Capital Additions  (2022$ CPIU)')\n",
    "plt.savefig('../graphs/SCE TD Capital Additions (2022$ CPIU).png',dpi=600,bbox_inches='tight')"
   ]
  },
  {
   "cell_type": "code",
   "execution_count": 81,
   "id": "ab6ac56c",
   "metadata": {},
   "outputs": [],
   "source": [
    "transmisson_capop_components=['capex_land', 'capex_other', 'capex_total',\n",
    "       'opex_operations', 'opex_maintenance', 'opex_rents', 'opex_total']\n",
    "linestyles=['-','-','-','-','-','-','-']\n",
    "\n",
    "for idx,component in enumerate(transmisson_capop_components):\n",
    "    plt.plot(pge_sum['report_year'],pge_sum[component],label=component,ls=linestyles[idx])\n",
    "plt.legend(loc='right',bbox_to_anchor=(1.9,0.5))\n",
    "plt.grid(True)\n",
    "plt.title('PG&E Aggregated Transmission Lines\\ncapex and opex components')\n",
    "plt.savefig('../graphs/PG&E transmission capex and opex components.png',dpi=600,bbox_inches='tight')"
   ]
  },
  {
   "cell_type": "code",
   "execution_count": 82,
   "id": "224c5e3a",
   "metadata": {},
   "outputs": [],
   "source": [
    "transmisson_capop_components=['opex_operations', 'opex_maintenance', 'opex_rents', 'opex_total']\n",
    "linestyles=['-','-','-','-','-','-','-']\n",
    "\n",
    "for idx,component in enumerate(transmisson_capop_components):\n",
    "    plt.plot(pge_sum['report_year'],pge_sum[component],label=component,ls=linestyles[idx])\n",
    "plt.legend(loc='right',bbox_to_anchor=(1.9,0.5))\n",
    "plt.grid(True)\n",
    "plt.title('PG&E Aggregated Transmission Lines\\n opex zoomin')\n",
    "#plt.savefig('../graphs/PG&E transmission opex zoomin.png',dpi=600,bbox_inches='tight')"
   ]
  },
  {
   "cell_type": "code",
   "execution_count": 83,
   "id": "2b0ace20",
   "metadata": {
    "scrolled": false
   },
   "outputs": [],
   "source": [
    "plt.plot(pge_sum['report_year'],pge_sum['power_production_expenses']/1e9,label='Power Production')\n",
    "plt.plot(pge_sum['report_year'],(pge_sum['administrative_and_general_expenses']-pge_sum['injuries_and_damages'])/1e9,label='Admin + General\\n(exlc Injuries&Damages)')\n",
    "plt.plot(pge_sum['report_year'],pge_sum['injuries_and_damages']/1e9,label='Injuries + Damages')\n",
    "plt.plot(pge_sum['report_year'],pge_sum['distribution_expenses']/1e9,label='Distribution')\n",
    "plt.plot(pge_sum['report_year'],(pge_sum['customer_account_expenses']+pge_sum['customer_service_and_information_expenses'])/1e9,label='Customer Service +\\nAccount Management')\n",
    "plt.plot(pge_sum['report_year'],pge_sum['transmission_expenses']/1e9,label='Transmission')\n",
    "plt.plot(pge_sum['report_year'],pge_sum['sales_expenses']/1e9,label='Sales')\n",
    "plt.plot(pge_sum['report_year'],pge_sum['regional_market_expenses']/1e9,label='Regional Market Expenses')\n",
    "plt.title(\"PGE, Operational Expenditure Categories\")\n",
    "plt.ylabel(\"Expenses (billion $)\")\n",
    "plt.xlabel(\"Year\")\n",
    "\n",
    "plt.legend(title='Expense Categories\\n(in descending order as of 2022)',loc=(1,1),bbox_to_anchor=(1.1,0.5))\n",
    "plt.savefig('../graphs/PGE Expense Categories.png',dpi=600,bbox_inches='tight')"
   ]
  },
  {
   "cell_type": "markdown",
   "id": "c9e73920",
   "metadata": {},
   "source": [
    "# SCE Special Investigation"
   ]
  },
  {
   "cell_type": "code",
   "execution_count": 84,
   "id": "26f91170",
   "metadata": {},
   "outputs": [],
   "source": [
    "sce_sum = nerc_interconn_subset_data_disagg[nerc_interconn_subset_data_disagg['utility_name_ferc1']=='Southern California Edison Company']\n",
    "sce_sum.columns"
   ]
  },
  {
   "cell_type": "markdown",
   "id": "b7db9ea0",
   "metadata": {},
   "source": [
    "## Revenue breakdown"
   ]
  },
  {
   "cell_type": "code",
   "execution_count": null,
   "id": "ab97ab19",
   "metadata": {},
   "outputs": [],
   "source": [
    "# Create layout\n",
    "layout = [\n",
    "    [\"A\", \"A\"],\n",
    "    [\"B\", \"C\"]\n",
    "]\n",
    "\n",
    "fig, axd = plt.subplot_mosaic(layout, figsize=(10,7))\n",
    "\n",
    "\n",
    "axd['A'].plot(sce_sum['report_year'],sce_sum['electric_operating_revenues']/1e9,label='Total Operating Electric Revenue')\n",
    "\n",
    "axd['A'].plot(sce_sum['report_year'],sce_sum['sales_to_ultimate_consumers']/1e9,label='Sales to Customers')\n",
    "\n",
    "axd['A'].plot(sce_sum['report_year'],sce_sum['sales_for_resale']/1e9,label='Sales for Resale')\n",
    "\n",
    "axd['A'].plot(sce_sum['report_year'],sce_sum['other_operating_revenues']/1e9,label='Other Operating Revenues')\n",
    "\n",
    "axd['A'].set_xlabel('Year')\n",
    "\n",
    "axd['A'].set_ylabel('Operating Revenue (billion $)')\n",
    "axd['A'].set_title('SCE, Electric Operating Revenue Components')\n",
    "\n",
    "axd['A'].legend(loc=(1,1),bbox_to_anchor=(1,0.5))\n",
    "\n",
    "\n",
    "\n",
    "axd['B'].set_xlabel('Year')\n",
    "axd['B'].set_ylabel('Operating Revenue (billion $)')\n",
    "axd['B'].set_title('SCE, Sales to Customers Components')\n",
    "\n",
    "\n",
    "axd['B'].plot(sce_sum['report_year'],sce_sum['sales_to_ultimate_consumers']/1e9,label='Total Electric Revenue')\n",
    "axd['B'].plot(sce_sum['report_year'],sce_sum['residential_sales']/1e9,label='Residential Sale')\n",
    "axd['B'].plot(sce_sum['report_year'],sce_sum['small_or_commercial']/1e9,label='Commercial')\n",
    "axd['B'].plot(sce_sum['report_year'],sce_sum['large_or_industrial']/1e9,label='Industrial')\n",
    "\n",
    "axd['B'].legend(loc=(1,1),bbox_to_anchor=(0,-0.6))\n",
    "\n",
    "\n",
    "\n",
    "axd['C'].set_xlabel('Year')\n",
    "\n",
    "axd['C'].set_ylabel('Operating Revenue (billion $)')\n",
    "axd['C'].set_title('SCE, \\\"Other Operating Revenues\\\" Components')\n",
    "\n",
    "axd['C'].plot(sce_sum['report_year'],sce_sum['other_operating_revenues']/1e9,label='Other Operating Revenues')\n",
    "\n",
    "axd['C'].plot(sce_sum['report_year'],sce_sum['revenues_from_transmission_of_electricity_of_others']/1e9,label='\\\"Transmission for Others\\\" Revenue')\n",
    "\n",
    "axd['C'].legend(loc=(1,1),bbox_to_anchor=(0,-0.4))\n",
    "\n",
    "\n",
    "plt.subplots_adjust(hspace=0.3)\n",
    "\n",
    "fig.savefig('../graphs/SCE Revenue Breakdown.png',dpi=600,bbox_inches='tight')"
   ]
  },
  {
   "cell_type": "markdown",
   "id": "d46998d1",
   "metadata": {},
   "source": [
    "## Power expenses breakdown"
   ]
  },
  {
   "cell_type": "code",
   "execution_count": null,
   "id": "cfdfb675",
   "metadata": {
    "scrolled": false
   },
   "outputs": [],
   "source": [
    "plt.plot(sce_sum['report_year'],sce_sum['power_production_expenses']/1e9,label='Power Production')\n",
    "plt.plot(sce_sum['report_year'],sce_sum['administrative_and_general_expenses']/1e9,label='Admin + General')\n",
    "plt.plot(sce_sum['report_year'],sce_sum['distribution_expenses']/1e9,label='Distribution')\n",
    "plt.plot(sce_sum['report_year'],(sce_sum['customer_account_expenses']+sce_sum['customer_service_and_information_expenses'])/1e9,label='Customer Service +\\nAccount Management')\n",
    "plt.plot(sce_sum['report_year'],sce_sum['transmission_expenses']/1e9,label='Transmission')\n",
    "#plt.plot(sce_sum['report_year'],sce_sum['customer_service_and_information_expenses']/1e9,label='Customer Service')\n",
    "#plt.plot(sce_sum['report_year'],sce_sum['sales_expenses']/1e9,label='Sales')\n",
    "#plt.plot(sce_sum['report_year'],sce_sum['regional_market_expenses']/1e9,label='Regional Market Expenses')\n",
    "plt.title(\"SCE, Operational Expenditure Categories\")\n",
    "plt.ylabel(\"Expenses (billion $)\")\n",
    "plt.xlabel(\"Year\")\n",
    "plt.text(2005,2.5,'Note: admin+general expenses\\ninclude injuries & damages\\nSpike in 2018 likely due to wildfire',fontsize=9)\n",
    "\n",
    "plt.legend(title='Expense Categories\\n(in descending order as of 2022)',loc=(1,1),bbox_to_anchor=(1.1,0.5))\n",
    "\n",
    "plt.savefig('SCE Expense Categories.png',dpi=600,bbox_inches='tight')\n"
   ]
  },
  {
   "cell_type": "code",
   "execution_count": null,
   "id": "0aeaa869",
   "metadata": {},
   "outputs": [],
   "source": [
    "plt.plot(sce_sum['report_year'],sce_sum['power_production_expenses_other_power']/1e9,label='Other')\n",
    "plt.plot(sce_sum['report_year'],sce_sum['power_production_expenses_nuclear_power']/1e9,label='Nuclear')\n",
    "plt.plot(sce_sum['report_year'],sce_sum['power_production_expenses_hydraulic_power']/1e9,label='Hydro')\n",
    "plt.plot(sce_sum['report_year'],sce_sum['power_production_expenses_steam_power']/1e9,label='Steam')\n",
    "\n",
    "plt.plot(sce_sum['report_year'],sce_sum['purchased_power']/1e9,label='Purchased Power')\n",
    "plt.legend(title='Production Source:',loc=(1,1),bbox_to_anchor=(1.05,0.5))\n",
    "plt.ylabel(\"Expenses (billion $)\")\n",
    "#plt.yscale('log')\n",
    "plt.xlabel(\"Year\")\n",
    "plt.title(\"SCE, Power Production Expenditure Components\\n(Note y axis log scale)\")\n",
    "#plt.savefig('SCE Power Production Expenditure Components.png',dpi=600,bbox_inches='tight')\n"
   ]
  },
  {
   "cell_type": "code",
   "execution_count": null,
   "id": "fa785dc7",
   "metadata": {},
   "outputs": [],
   "source": [
    "sce_sum.to_csv(\"../datafiles/SCE form1data.csv\")"
   ]
  }
 ],
 "metadata": {
  "kernelspec": {
   "display_name": "Python 3 (ipykernel)",
   "language": "python",
   "name": "python3"
  },
  "language_info": {
   "codemirror_mode": {
    "name": "ipython",
    "version": 3
   },
   "file_extension": ".py",
   "mimetype": "text/x-python",
   "name": "python",
   "nbconvert_exporter": "python",
   "pygments_lexer": "ipython3",
   "version": "3.10.0"
  }
 },
 "nbformat": 4,
 "nbformat_minor": 5
}
